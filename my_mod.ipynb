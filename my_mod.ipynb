{
 "cells": [
  {
   "cell_type": "code",
   "execution_count": 6,
   "id": "312356e8",
   "metadata": {},
   "outputs": [
    {
     "name": "stdout",
     "output_type": "stream",
     "text": [
      "Enter the length of the house: 6\n",
      "Enter the width of the house: 4\n",
      "The square footage of the house is: 24.0 square units\n",
      "Enter the radius of the circle: 7\n",
      "The circumference of the circle is: 43.982297150257104 units\n"
     ]
    }
   ],
   "source": [
    "length = float(input(\"Enter the length of the house: \"))\n",
    "width = float(input(\"Enter the width of the house: \"))\n",
    "\n",
    "square_footage = my_module.calculate_square_footage(length, width)\n",
    "print(f\"The square footage of the house is: {square_footage} square units\")\n",
    "\n",
    "radius = float(input(\"Enter the radius of the circle: \"))\n",
    "\n",
    "circumference = my_module.calculate_circumference(radius)\n",
    "print(f\"The circumference of the circle is: {circumference} units\")"
   ]
  },
  {
   "cell_type": "code",
   "execution_count": null,
   "id": "440ae439",
   "metadata": {},
   "outputs": [],
   "source": []
  }
 ],
 "metadata": {
  "kernelspec": {
   "display_name": "Python 3 (ipykernel)",
   "language": "python",
   "name": "python3"
  },
  "language_info": {
   "codemirror_mode": {
    "name": "ipython",
    "version": 3
   },
   "file_extension": ".py",
   "mimetype": "text/x-python",
   "name": "python",
   "nbconvert_exporter": "python",
   "pygments_lexer": "ipython3",
   "version": "3.11.5"
  }
 },
 "nbformat": 4,
 "nbformat_minor": 5
}
